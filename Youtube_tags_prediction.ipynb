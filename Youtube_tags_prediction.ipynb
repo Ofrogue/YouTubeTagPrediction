{
 "cells": [
  {
   "cell_type": "code",
   "execution_count": 67,
   "metadata": {},
   "outputs": [],
   "source": [
    "%matplotlib inline\n",
    "import pandas as pd\n",
    "from collections import Counter\n",
    "from matplotlib import pyplot as plt\n",
    "import os\n",
    "import urllib\n",
    "import keras"
   ]
  },
  {
   "cell_type": "code",
   "execution_count": 2,
   "metadata": {},
   "outputs": [],
   "source": [
    "import re"
   ]
  },
  {
   "cell_type": "code",
   "execution_count": 3,
   "metadata": {},
   "outputs": [],
   "source": [
    "youtube_df = pd.read_csv(\"USvideos.csv\")"
   ]
  },
  {
   "cell_type": "code",
   "execution_count": 168,
   "metadata": {},
   "outputs": [
    {
     "data": {
      "text/html": [
       "<div>\n",
       "<style scoped>\n",
       "    .dataframe tbody tr th:only-of-type {\n",
       "        vertical-align: middle;\n",
       "    }\n",
       "\n",
       "    .dataframe tbody tr th {\n",
       "        vertical-align: top;\n",
       "    }\n",
       "\n",
       "    .dataframe thead th {\n",
       "        text-align: right;\n",
       "    }\n",
       "</style>\n",
       "<table border=\"1\" class=\"dataframe\">\n",
       "  <thead>\n",
       "    <tr style=\"text-align: right;\">\n",
       "      <th></th>\n",
       "      <th>video_id</th>\n",
       "      <th>trending_date</th>\n",
       "      <th>title</th>\n",
       "      <th>channel_title</th>\n",
       "      <th>category_id</th>\n",
       "      <th>publish_time</th>\n",
       "      <th>tags</th>\n",
       "      <th>views</th>\n",
       "      <th>likes</th>\n",
       "      <th>dislikes</th>\n",
       "      <th>comment_count</th>\n",
       "      <th>thumbnail_link</th>\n",
       "      <th>comments_disabled</th>\n",
       "      <th>ratings_disabled</th>\n",
       "      <th>video_error_or_removed</th>\n",
       "      <th>description</th>\n",
       "    </tr>\n",
       "  </thead>\n",
       "  <tbody>\n",
       "    <tr>\n",
       "      <th>0</th>\n",
       "      <td>2kyS6SvSYSE</td>\n",
       "      <td>17.14.11</td>\n",
       "      <td>WE WANT TO TALK ABOUT OUR MARRIAGE</td>\n",
       "      <td>CaseyNeistat</td>\n",
       "      <td>22</td>\n",
       "      <td>2017-11-13T17:13:01.000Z</td>\n",
       "      <td>SHANtell martin</td>\n",
       "      <td>748374</td>\n",
       "      <td>57527</td>\n",
       "      <td>2966</td>\n",
       "      <td>15954</td>\n",
       "      <td>https://i.ytimg.com/vi/2kyS6SvSYSE/default.jpg</td>\n",
       "      <td>False</td>\n",
       "      <td>False</td>\n",
       "      <td>False</td>\n",
       "      <td>SHANTELL'S CHANNEL - https://www.youtube.com/s...</td>\n",
       "    </tr>\n",
       "    <tr>\n",
       "      <th>1</th>\n",
       "      <td>1ZAPwfrtAFY</td>\n",
       "      <td>17.14.11</td>\n",
       "      <td>The Trump Presidency: Last Week Tonight with J...</td>\n",
       "      <td>LastWeekTonight</td>\n",
       "      <td>24</td>\n",
       "      <td>2017-11-13T07:30:00.000Z</td>\n",
       "      <td>last week tonight trump presidency|\"last week ...</td>\n",
       "      <td>2418783</td>\n",
       "      <td>97185</td>\n",
       "      <td>6146</td>\n",
       "      <td>12703</td>\n",
       "      <td>https://i.ytimg.com/vi/1ZAPwfrtAFY/default.jpg</td>\n",
       "      <td>False</td>\n",
       "      <td>False</td>\n",
       "      <td>False</td>\n",
       "      <td>One year after the presidential election, John...</td>\n",
       "    </tr>\n",
       "    <tr>\n",
       "      <th>2</th>\n",
       "      <td>5qpjK5DgCt4</td>\n",
       "      <td>17.14.11</td>\n",
       "      <td>Racist Superman | Rudy Mancuso, King Bach &amp; Le...</td>\n",
       "      <td>Rudy Mancuso</td>\n",
       "      <td>23</td>\n",
       "      <td>2017-11-12T19:05:24.000Z</td>\n",
       "      <td>racist superman|\"rudy\"|\"mancuso\"|\"king\"|\"bach\"...</td>\n",
       "      <td>3191434</td>\n",
       "      <td>146033</td>\n",
       "      <td>5339</td>\n",
       "      <td>8181</td>\n",
       "      <td>https://i.ytimg.com/vi/5qpjK5DgCt4/default.jpg</td>\n",
       "      <td>False</td>\n",
       "      <td>False</td>\n",
       "      <td>False</td>\n",
       "      <td>WATCH MY PREVIOUS VIDEO ▶ \\n\\nSUBSCRIBE ► http...</td>\n",
       "    </tr>\n",
       "    <tr>\n",
       "      <th>3</th>\n",
       "      <td>puqaWrEC7tY</td>\n",
       "      <td>17.14.11</td>\n",
       "      <td>Nickelback Lyrics: Real or Fake?</td>\n",
       "      <td>Good Mythical Morning</td>\n",
       "      <td>24</td>\n",
       "      <td>2017-11-13T11:00:04.000Z</td>\n",
       "      <td>rhett and link|\"gmm\"|\"good mythical morning\"|\"...</td>\n",
       "      <td>343168</td>\n",
       "      <td>10172</td>\n",
       "      <td>666</td>\n",
       "      <td>2146</td>\n",
       "      <td>https://i.ytimg.com/vi/puqaWrEC7tY/default.jpg</td>\n",
       "      <td>False</td>\n",
       "      <td>False</td>\n",
       "      <td>False</td>\n",
       "      <td>Today we find out if Link is a Nickelback amat...</td>\n",
       "    </tr>\n",
       "    <tr>\n",
       "      <th>4</th>\n",
       "      <td>d380meD0W0M</td>\n",
       "      <td>17.14.11</td>\n",
       "      <td>I Dare You: GOING BALD!?</td>\n",
       "      <td>nigahiga</td>\n",
       "      <td>24</td>\n",
       "      <td>2017-11-12T18:01:41.000Z</td>\n",
       "      <td>ryan|\"higa\"|\"higatv\"|\"nigahiga\"|\"i dare you\"|\"...</td>\n",
       "      <td>2095731</td>\n",
       "      <td>132235</td>\n",
       "      <td>1989</td>\n",
       "      <td>17518</td>\n",
       "      <td>https://i.ytimg.com/vi/d380meD0W0M/default.jpg</td>\n",
       "      <td>False</td>\n",
       "      <td>False</td>\n",
       "      <td>False</td>\n",
       "      <td>I know it's been a while since we did this sho...</td>\n",
       "    </tr>\n",
       "  </tbody>\n",
       "</table>\n",
       "</div>"
      ],
      "text/plain": [
       "      video_id trending_date  \\\n",
       "0  2kyS6SvSYSE      17.14.11   \n",
       "1  1ZAPwfrtAFY      17.14.11   \n",
       "2  5qpjK5DgCt4      17.14.11   \n",
       "3  puqaWrEC7tY      17.14.11   \n",
       "4  d380meD0W0M      17.14.11   \n",
       "\n",
       "                                               title          channel_title  \\\n",
       "0                 WE WANT TO TALK ABOUT OUR MARRIAGE           CaseyNeistat   \n",
       "1  The Trump Presidency: Last Week Tonight with J...        LastWeekTonight   \n",
       "2  Racist Superman | Rudy Mancuso, King Bach & Le...           Rudy Mancuso   \n",
       "3                   Nickelback Lyrics: Real or Fake?  Good Mythical Morning   \n",
       "4                           I Dare You: GOING BALD!?               nigahiga   \n",
       "\n",
       "   category_id              publish_time  \\\n",
       "0           22  2017-11-13T17:13:01.000Z   \n",
       "1           24  2017-11-13T07:30:00.000Z   \n",
       "2           23  2017-11-12T19:05:24.000Z   \n",
       "3           24  2017-11-13T11:00:04.000Z   \n",
       "4           24  2017-11-12T18:01:41.000Z   \n",
       "\n",
       "                                                tags    views   likes  \\\n",
       "0                                    SHANtell martin   748374   57527   \n",
       "1  last week tonight trump presidency|\"last week ...  2418783   97185   \n",
       "2  racist superman|\"rudy\"|\"mancuso\"|\"king\"|\"bach\"...  3191434  146033   \n",
       "3  rhett and link|\"gmm\"|\"good mythical morning\"|\"...   343168   10172   \n",
       "4  ryan|\"higa\"|\"higatv\"|\"nigahiga\"|\"i dare you\"|\"...  2095731  132235   \n",
       "\n",
       "   dislikes  comment_count                                  thumbnail_link  \\\n",
       "0      2966          15954  https://i.ytimg.com/vi/2kyS6SvSYSE/default.jpg   \n",
       "1      6146          12703  https://i.ytimg.com/vi/1ZAPwfrtAFY/default.jpg   \n",
       "2      5339           8181  https://i.ytimg.com/vi/5qpjK5DgCt4/default.jpg   \n",
       "3       666           2146  https://i.ytimg.com/vi/puqaWrEC7tY/default.jpg   \n",
       "4      1989          17518  https://i.ytimg.com/vi/d380meD0W0M/default.jpg   \n",
       "\n",
       "   comments_disabled  ratings_disabled  video_error_or_removed  \\\n",
       "0              False             False                   False   \n",
       "1              False             False                   False   \n",
       "2              False             False                   False   \n",
       "3              False             False                   False   \n",
       "4              False             False                   False   \n",
       "\n",
       "                                         description  \n",
       "0  SHANTELL'S CHANNEL - https://www.youtube.com/s...  \n",
       "1  One year after the presidential election, John...  \n",
       "2  WATCH MY PREVIOUS VIDEO ▶ \\n\\nSUBSCRIBE ► http...  \n",
       "3  Today we find out if Link is a Nickelback amat...  \n",
       "4  I know it's been a while since we did this sho...  "
      ]
     },
     "execution_count": 168,
     "metadata": {},
     "output_type": "execute_result"
    }
   ],
   "source": [
    "youtube_df.head()"
   ]
  },
  {
   "cell_type": "markdown",
   "metadata": {},
   "source": [
    "# Downloading thumbnails"
   ]
  },
  {
   "cell_type": "code",
   "execution_count": null,
   "metadata": {},
   "outputs": [],
   "source": [
    "for vid in tqdm(youtube_df.video_id):\n",
    "    url = \"https://i.ytimg.com/vi/\" + str(vid) +\"/hqdefault.jpg\"\n",
    "    path = os.path.join(\"thumbnail\", str(vid)+\".jpg\")\n",
    "    resource = urllib.urlopen(url)\n",
    "    \n",
    "    output = open(path, \"wb\")\n",
    "    output.write(resource.read())\n",
    "    output.close()\n",
    "    "
   ]
  },
  {
   "cell_type": "markdown",
   "metadata": {},
   "source": [
    "# Tag filtering"
   ]
  },
  {
   "cell_type": "code",
   "execution_count": 5,
   "metadata": {},
   "outputs": [],
   "source": [
    "# count all tags\n",
    "tags = youtube_df.tags.str.split(\"|\")\n",
    "\n",
    "tags = [[tag.strip('\"') for tag in tag_line] for tag_line in tags]\n",
    "\n",
    "tag_counter = Counter()\n",
    "for tag_line in tags:\n",
    "    for tag in tag_line:\n",
    "        tag_counter[tag] += 1"
   ]
  },
  {
   "cell_type": "code",
   "execution_count": 38,
   "metadata": {},
   "outputs": [
    {
     "name": "stdout",
     "output_type": "stream",
     "text": [
      "500\n"
     ]
    }
   ],
   "source": [
    "most_common = tag_counter.most_common()[:500]\n",
    "most_common = [(tag,i) for tag, i in most_common if i > 100]\n",
    "print(len(most_common))"
   ]
  },
  {
   "cell_type": "code",
   "execution_count": 39,
   "metadata": {},
   "outputs": [],
   "source": [
    "most_common_tags = [tag for tag, i in most_common]"
   ]
  },
  {
   "cell_type": "code",
   "execution_count": 47,
   "metadata": {},
   "outputs": [],
   "source": [
    "def filter_tags(tags):\n",
    "    return [tag.strip('\"') for tag in tags if tag.strip('\"') in most_common_tags]"
   ]
  },
  {
   "cell_type": "code",
   "execution_count": 170,
   "metadata": {},
   "outputs": [
    {
     "data": {
      "text/plain": [
       "[<matplotlib.lines.Line2D at 0x7f4f1704f908>]"
      ]
     },
     "execution_count": 170,
     "metadata": {},
     "output_type": "execute_result"
    },
    {
     "data": {
      "image/png": "[encoded data removed]",
      "text/plain": [
       "<Figure size 432x288 with 1 Axes>"
      ]
     },
     "metadata": {
      "needs_background": "light"
     },
     "output_type": "display_data"
    }
   ],
   "source": [
    "x = [tag for tag, i in most_common]\n",
    "y = [i for tag, i in most_common]\n",
    "plt.title('Distribution of tags')\n",
    "plt.plot(y)"
   ]
  },
  {
   "cell_type": "code",
   "execution_count": 169,
   "metadata": {},
   "outputs": [
    {
     "data": {
      "text/plain": [
       "['funny',\n",
       " 'comedy',\n",
       " 'how to',\n",
       " '[none]',\n",
       " 'music',\n",
       " 'Pop',\n",
       " '2018',\n",
       " 'humor',\n",
       " 'food',\n",
       " 'science',\n",
       " 'review',\n",
       " 'makeup',\n",
       " 'news',\n",
       " 'celebrity',\n",
       " 'vlog']"
      ]
     },
     "execution_count": 169,
     "metadata": {},
     "output_type": "execute_result"
    }
   ],
   "source": [
    "most_common_tags[:15]"
   ]
  },
  {
   "cell_type": "markdown",
   "metadata": {},
   "source": [
    "Tags before and after filtering"
   ]
  },
  {
   "cell_type": "code",
   "execution_count": 171,
   "metadata": {},
   "outputs": [
    {
     "data": {
      "text/plain": [
       "['racist superman',\n",
       " '\"rudy\"',\n",
       " '\"mancuso\"',\n",
       " '\"king\"',\n",
       " '\"bach\"',\n",
       " '\"racist\"',\n",
       " '\"superman\"',\n",
       " '\"love\"',\n",
       " '\"rudy mancuso poo bear black white official music video\"',\n",
       " '\"iphone x by pineapple\"',\n",
       " '\"lelepons\"',\n",
       " '\"hannahstocking\"',\n",
       " '\"rudymancuso\"',\n",
       " '\"inanna\"',\n",
       " '\"anwar\"',\n",
       " '\"sarkis\"',\n",
       " '\"shots\"',\n",
       " '\"shotsstudios\"',\n",
       " '\"alesso\"',\n",
       " '\"anitta\"',\n",
       " '\"brazil\"',\n",
       " '\"Getting My Driver\\'s License ',\n",
       " ' Lele Pons\"']"
      ]
     },
     "execution_count": 171,
     "metadata": {},
     "output_type": "execute_result"
    }
   ],
   "source": [
    "tags = youtube_df.tags[2].split(\"|\")\n",
    "\n",
    "tags"
   ]
  },
  {
   "cell_type": "code",
   "execution_count": 50,
   "metadata": {},
   "outputs": [
    {
     "data": {
      "text/plain": [
       "['love',\n",
       " 'lelepons',\n",
       " 'hannahstocking',\n",
       " 'rudymancuso',\n",
       " 'inanna',\n",
       " 'anwar',\n",
       " 'sarkis',\n",
       " 'shots',\n",
       " 'shotsstudios',\n",
       " 'alesso',\n",
       " 'anitta',\n",
       " 'brazil']"
      ]
     },
     "execution_count": 50,
     "metadata": {},
     "output_type": "execute_result"
    }
   ],
   "source": [
    "filter_tags(tags)"
   ]
  },
  {
   "cell_type": "markdown",
   "metadata": {},
   "source": [
    "# Transform tags into binary encoded vectors"
   ]
  },
  {
   "cell_type": "code",
   "execution_count": 37,
   "metadata": {},
   "outputs": [],
   "source": [
    "from sklearn.preprocessing import MultiLabelBinarizer"
   ]
  },
  {
   "cell_type": "code",
   "execution_count": 53,
   "metadata": {},
   "outputs": [],
   "source": [
    "tags_dict = {}\n",
    "\n",
    "for tags, video_id in zip(youtube_df.tags, youtube_df.video_id):\n",
    "    tags_list = tags.split('|')\n",
    "    filtered = filter_tags(tags_list)\n",
    "    tags_dict[video_id] = filtered\n"
   ]
  },
  {
   "cell_type": "code",
   "execution_count": 57,
   "metadata": {},
   "outputs": [
    {
     "data": {
      "text/plain": [
       "MultiLabelBinarizer(classes=None, sparse_output=False)"
      ]
     },
     "execution_count": 57,
     "metadata": {},
     "output_type": "execute_result"
    }
   ],
   "source": [
    "labels = list(tags_dict.values())\n",
    "\n",
    "mlb = MultiLabelBinarizer()\n",
    "\n",
    "mlb.fit(labels)"
   ]
  },
  {
   "cell_type": "code",
   "execution_count": 63,
   "metadata": {},
   "outputs": [
    {
     "data": {
      "text/plain": [
       "array([[0, 0, 0, 0, 0, 0, 0, 0, 0, 0, 0, 0, 0, 0, 0, 0, 0, 0, 0, 0, 0, 0,\n",
       "        0, 0, 0, 0, 0, 0, 0, 0, 0, 0, 0, 0, 0, 0, 0, 0, 0, 0, 0, 0, 0, 0,\n",
       "        0, 0, 0, 0, 0, 0, 0, 0, 0, 0, 0, 0, 0, 0, 0, 0, 0, 0, 0, 0, 0, 0,\n",
       "        0, 0, 0, 0, 0, 0, 0, 0, 0, 0, 0, 0, 0, 0, 0, 0, 0, 0, 0, 0, 0, 0,\n",
       "        0, 0, 0, 0, 0, 0, 0, 0, 0, 0, 0, 0, 0, 0, 0, 0, 0, 0, 0, 0, 0, 0,\n",
       "        0, 0, 0, 0, 0, 0, 0, 0, 0, 0, 0, 0, 0, 0, 0, 0, 0, 0, 0, 0, 0, 0,\n",
       "        0, 0, 0, 0, 0, 0, 0, 0, 0, 0, 0, 0, 0, 0, 0, 0, 0, 0, 0, 0, 0, 0,\n",
       "        0, 0, 1, 0, 0, 0, 0, 0, 0, 0, 0, 0, 0, 0, 0, 0, 0, 0, 0, 0, 0, 0,\n",
       "        0, 0, 0, 0, 0, 0, 0, 0, 0, 0, 0, 0, 0, 0, 0, 0, 0, 0, 0, 0, 0, 0,\n",
       "        0, 0, 0, 0, 0, 0, 0, 0, 0, 0, 0, 0, 0, 0, 0, 0, 0, 0, 0, 0, 0, 0,\n",
       "        0, 0, 0, 0, 0, 0, 0, 0, 0, 0, 0, 0, 0, 0, 1, 0, 0, 0, 0, 0, 0, 0,\n",
       "        0, 0, 1, 1, 1, 0, 0, 0, 0, 0, 0, 0, 0, 0, 0, 0, 0, 0, 0, 0, 0, 0,\n",
       "        0, 0, 0, 0, 0, 0, 0, 0, 0, 0, 0, 0, 0, 0, 0, 0, 0, 0, 0, 0, 0, 0,\n",
       "        0, 0, 0, 0, 0, 0, 0, 0, 0, 0, 0, 0, 0, 0, 0, 0, 0, 0, 0, 0, 0, 0,\n",
       "        0, 0, 0, 0, 0, 0, 0, 0, 0, 1, 0, 0, 0, 0, 0, 0, 0, 0, 0, 0, 0, 0,\n",
       "        0, 0, 1, 0, 0, 1, 0, 0, 0, 0, 0, 0, 0, 0, 0, 0, 0, 0, 0, 0, 0, 0,\n",
       "        0, 0, 0, 0, 0, 0, 0, 0, 0, 0, 0, 0, 0, 0, 0, 0, 0, 0, 0, 0, 0, 0,\n",
       "        0, 0, 0, 0, 0, 0, 1, 1, 0, 0, 0, 0, 0, 0, 0, 0, 0, 0, 0, 0, 0, 0,\n",
       "        0, 0, 0, 0, 0, 0, 0, 0, 0, 0, 0, 0, 0, 0, 0, 0, 0, 0, 0, 0, 0, 0,\n",
       "        0, 0, 0, 0, 0, 0, 0, 0, 0, 0, 0, 0, 0, 0, 0, 0, 0, 0, 0, 0, 0, 0,\n",
       "        0, 0, 0, 0, 0, 0, 0, 0, 0, 0, 0, 0, 0, 0, 0, 0, 0, 0, 0, 0, 0, 0,\n",
       "        0, 0, 0, 0, 0, 0, 0, 0, 0, 0, 0, 0, 0, 0, 0, 0, 0, 0, 0, 0, 0, 0,\n",
       "        0, 0, 0, 0, 0, 0, 0, 0, 0, 0, 0, 0, 0, 0, 0, 0]])"
      ]
     },
     "execution_count": 63,
     "metadata": {},
     "output_type": "execute_result"
    }
   ],
   "source": [
    "mlb.transform([tags_dict[\"puqaWrEC7tY\"]])"
   ]
  },
  {
   "cell_type": "code",
   "execution_count": 75,
   "metadata": {},
   "outputs": [],
   "source": [
    "# ids are needed to oreder data\n",
    "video_ids = list(tags_dict.keys())\n",
    "\n",
    "# ordered tags according to video_ids\n",
    "tag_labels = [tags_dict[video_id] for video_id in video_ids]\n",
    "\n",
    "#  0 1 encoded tags ordered by video_ids\n",
    "Y_tags = mlb.transform(tag_labels)\n",
    "              \n",
    "              "
   ]
  },
  {
   "cell_type": "markdown",
   "metadata": {},
   "source": [
    "# Image features"
   ]
  },
  {
   "cell_type": "code",
   "execution_count": 10,
   "metadata": {},
   "outputs": [
    {
     "name": "stderr",
     "output_type": "stream",
     "text": [
      "Using TensorFlow backend.\n"
     ]
    }
   ],
   "source": [
    "import keras\n",
    "from keras.models import Sequential, Model\n",
    "from keras.layers import Dense, Embedding, LSTM, SpatialDropout1D\n",
    "import numpy as np\n",
    "import pickle\n",
    "from tqdm import tqdm"
   ]
  },
  {
   "cell_type": "code",
   "execution_count": 88,
   "metadata": {},
   "outputs": [],
   "source": [
    "from keras.applications.inception_v3 import InceptionV3\n",
    "from keras.preprocessing import image\n",
    "from keras.applications.inception_v3 import preprocess_input"
   ]
  },
  {
   "cell_type": "code",
   "execution_count": 89,
   "metadata": {},
   "outputs": [],
   "source": [
    "def preprocess_image(image_path):\n",
    "    # Convert all the images to size 299x299 as expected by the inception v3 model\n",
    "    img = image.load_img(image_path, target_size=(299, 299))\n",
    "    # Convert PIL image to numpy array of 3-dimensions\n",
    "    x = image.img_to_array(img)\n",
    "    # Add one more dimension\n",
    "    x = np.expand_dims(x, axis=0)\n",
    "    # preprocess the images using preprocess_input() from inception module\n",
    "    x = preprocess_input(x)\n",
    "    return x"
   ]
  },
  {
   "cell_type": "code",
   "execution_count": 90,
   "metadata": {
    "scrolled": true
   },
   "outputs": [
    {
     "name": "stdout",
     "output_type": "stream",
     "text": [
      "Downloading data from https://github.com/fchollet/deep-learning-models/releases/download/v0.5/inception_v3_weights_tf_dim_ordering_tf_kernels.h5\n",
      "96116736/96112376 [==============================] - 40s 0us/step\n"
     ]
    }
   ],
   "source": [
    "image_model = InceptionV3(weights='imagenet')"
   ]
  },
  {
   "cell_type": "code",
   "execution_count": 95,
   "metadata": {},
   "outputs": [],
   "source": [
    "image_model_top = Model(image_model.input, image_model.layers[-2].output)"
   ]
  },
  {
   "cell_type": "code",
   "execution_count": 98,
   "metadata": {},
   "outputs": [],
   "source": [
    "def encode(image_path):\n",
    "     # preprocess the image\n",
    "    image = preprocess_image(image_path)\n",
    "    # Get the encoding vector for the image\n",
    "    image_feature_vec = image_model_top.predict(image) \n",
    "    # reshape from (1, 2048) to (2048, )\n",
    "    image_feature_vec = image_feature_vec.reshape(image_feature_vec.shape[1])\n",
    "    \n",
    "    return image_feature_vec\n",
    "    "
   ]
  },
  {
   "cell_type": "code",
   "execution_count": null,
   "metadata": {},
   "outputs": [
    {
     "name": "stderr",
     "output_type": "stream",
     "text": [
      " 60%|█████▉    | 24517/40949 [1:26:30<3:06:38,  1.47it/s]  "
     ]
    }
   ],
   "source": [
    "# dict to hold  the features of images retrieved from image_model\n",
    "image_feature_dict = {}\n",
    "\n",
    "for img in tqdm(youtube_df.video_id):\n",
    "    image_path = os.path.join(\"thumbnail\", str(img)+\".jpg\")\n",
    "    image_feature_dict[img] = encode(image_path)\n",
    "    \n",
    "    \n",
    "\n",
    "image_features_pickle = open(os.path.join(\"image_features\", \"features.pkl\"), 'wb')\n",
    "\n",
    "pickle.dump(image_feature_dict, image_features_pickle)\n",
    "image_features_pickle.close()"
   ]
  },
  {
   "cell_type": "code",
   "execution_count": 103,
   "metadata": {},
   "outputs": [
    {
     "data": {
      "text/plain": [
       "array([0.13545969, 0.3783415 , 0.32912484, ..., 0.80654037, 0.2482816 ,\n",
       "       0.6034405 ], dtype=float32)"
      ]
     },
     "execution_count": 103,
     "metadata": {},
     "output_type": "execute_result"
    }
   ],
   "source": [
    "image_feature_dict['2kyS6SvSYSE']"
   ]
  },
  {
   "cell_type": "code",
   "execution_count": 109,
   "metadata": {},
   "outputs": [],
   "source": [
    "image_features_pickle = open(os.path.join(\"image_features\", \"features.pkl\"), 'wb')\n",
    "\n",
    "pickle.dump(image_feature_dict, image_features_pickle)\n",
    "image_features_pickle.close()"
   ]
  },
  {
   "cell_type": "code",
   "execution_count": 80,
   "metadata": {},
   "outputs": [],
   "source": [
    "image_features_dict = pickle.load(open(\"image_features/features.pkl\",'rb'))\n"
   ]
  },
  {
   "cell_type": "code",
   "execution_count": 81,
   "metadata": {},
   "outputs": [],
   "source": [
    "# ordered image_features by video_ids\n",
    "X_image = [image_features_dict[video_id] for video_id in video_ids]"
   ]
  },
  {
   "cell_type": "markdown",
   "metadata": {},
   "source": [
    "# Filter descriptions"
   ]
  },
  {
   "cell_type": "code",
   "execution_count": 14,
   "metadata": {},
   "outputs": [
    {
     "data": {
      "text/plain": [
       "\"today we find out if link is a nickelback amateur or a secret nickelback devotee. gmm #1218\\\\ndon't miss an all new ear biscuits: https://goo.gl/xeznqt\\\\nwatch part 4: https://youtu.be/mhcdiib8cqg | watch part 2: https://youtu.be/7qiornao9fg\\\\nwatch today's episode from the start: http://bit.ly/gmm1218\\\\n\\\\npick up all of the official gmm merch only at https://mythical.store\\\\n\\\\nfollow rhett & link: \\\\ninstagram: https://instagram.com/rhettandlink\\\\nfacebook: https://facebook.com/rhettandlink\\\\ntwitter: https://twitter.com/rhettandlink\\\\ntumblr: https://rhettandlink.tumblr.com\\\\nsnapchat: @realrhettlink\\\\nwebsite: https://mythical.co/\\\\n\\\\ncheck out our other mythical channels:\\\\ngood mythical more: https://youtube.com/goodmythicalmore\\\\nrhett & link: https://youtube.com/rhettandlink\\\\nthis is mythical: https://youtube.com/thisismythical\\\\near biscuits: https://applepodcasts.com/earbiscuits\\\\n\\\\nwant to send us something? https://mythical.co/contact\\\\nhave you made a wheel of mythicality intro video? submit it here: https://bit.ly/gmmwheelintro\\\\n\\\\nintro animation by digital twigs: https://www.digitaltwigs.com\\\\nintro & outro music by jeff zeigler & sarah schimeneck https://www.jeffzeigler.com\\\\nwheel of mythicality theme: https://www.royaltyfreemusiclibrary.com/\\\\nall supplemental music fromopus 1 music: https://opus1.sourceaudio.com/\\\\nwe use ‘the mouse’ by blue microphones https://www.bluemic.com/mouse/\""
      ]
     },
     "execution_count": 14,
     "metadata": {},
     "output_type": "execute_result"
    }
   ],
   "source": [
    "\n",
    "text = youtube_df.description[3]\n",
    "text.lower()\n"
   ]
  },
  {
   "cell_type": "code",
   "execution_count": 30,
   "metadata": {},
   "outputs": [
    {
     "name": "stdout",
     "output_type": "stream",
     "text": [
      "['today', 'we', 'find', 'out', 'if', 'link', 'is', 'a', 'nickelback', 'amateur', 'or', 'a', 'secret', 'nickelback', 'devotee', 'gmm', 'dont', 'miss', 'an', 'all', 'new', 'ear', 'biscuits', 'watch', 'part', 'watch', 'part', 'watch', 'todays', 'episode', 'from', 'the', 'start', 'pick', 'up', 'all', 'of', 'the', 'official', 'gmm', 'merch', 'only', 'at', 'follow', 'rhett', 'link', 'instagram', 'facebook', 'twitter', 'tumblr', 'snapchat', 'realrhettlinkwebsite', 'check', 'out', 'our', 'other', 'mythical', 'channelsgood', 'mythical', 'more', 'rhett', 'link', 'this', 'is', 'mythical', 'ear', 'biscuits', 'want', 'to', 'send', 'us', 'something', 'have', 'you', 'made', 'a', 'wheel', 'of', 'mythicality', 'intro', 'video', 'submit', 'it', 'here', 'intro', 'animation', 'by', 'digital', 'twigs', 'intro', 'outro', 'music', 'by', 'jeff', 'zeigler', 'sarah', 'schimeneck', 'wheel', 'of', 'mythicality', 'theme', 'all', 'supplemental', 'music', 'fromopus', 'music', 'we', 'use', 'the', 'mouse', 'by', 'blue', 'microphones']\n"
     ]
    }
   ],
   "source": [
    "def filter_text(text):\n",
    "    # if there is no description\n",
    "    if type(text) is float:\n",
    "        return \"\"\n",
    "    doc = text.lower()\n",
    "    exp = r'''https?:\\/\\/(www\\.)?[-a-zA-Z0-9@:%._\\+~#=]{2,256}\\.[a-z]{2,6}\\b([-a-zA-Z0-9@:%_\\+.~#?&//=]*)'''\n",
    "    doc = re.sub(exp, r'',doc)\n",
    "    doc  = re.sub(r\"(?<=[a-z])\\\\\\r?\\\\\\n\", \" \", doc)\n",
    "    doc = re.sub('\\\\\\\\n', '', doc)\n",
    "    doc = re.sub(r'[^a-z ]', r'', doc)\n",
    "    doc = re.sub(r' +', r' ', doc)\n",
    "    return doc\n",
    "\n",
    "print(filter_text(text).split())"
   ]
  },
  {
   "cell_type": "markdown",
   "metadata": {},
   "source": [
    "Filter all descriptions"
   ]
  },
  {
   "cell_type": "code",
   "execution_count": 33,
   "metadata": {},
   "outputs": [],
   "source": [
    "desc = youtube_df.description\n",
    "description_dict = {}\n",
    "\n",
    "for video_id, desc, title in zip(youtube_df.video_id, youtube_df.description, youtube_df.title):\n",
    "    \n",
    "    filtered_desc = filter_text(desc)\n",
    "    filtered_title = filter_text(title)\n",
    "    # print(desc)\n",
    "    description_dict[video_id] = filtered_title + filtered_desc\n",
    "    "
   ]
  },
  {
   "cell_type": "markdown",
   "metadata": {},
   "source": [
    "Ordering descriptions by video_id"
   ]
  },
  {
   "cell_type": "code",
   "execution_count": 66,
   "metadata": {},
   "outputs": [],
   "source": [
    "descriptions = [description_dict[video_id] for video_id in video_ids]\n"
   ]
  },
  {
   "cell_type": "markdown",
   "metadata": {},
   "source": [
    "adding GLOVE vectors"
   ]
  },
  {
   "cell_type": "code",
   "execution_count": null,
   "metadata": {},
   "outputs": [],
   "source": [
    "# Load Glove vectors\n",
    "embeddings_index = {} \n",
    "f = open('glove/glove.6B.200d.txt', encoding=\"utf-8\")\n",
    "\n",
    "for line in f:\n",
    "    values = line.split()\n",
    "    word = values[0]\n",
    "    coefs = np.asarray(values[1:], dtype='float32')\n",
    "    embeddings_index[word] = coefs\n",
    "f.close()"
   ]
  },
  {
   "cell_type": "code",
   "execution_count": 71,
   "metadata": {},
   "outputs": [],
   "source": [
    "max_fatures = 2000\n",
    "max_len = 250\n",
    "tokenizer = keras.preprocessing.text.Tokenizer(num_words=max_fatures, split=' ')\n",
    "tokenizer.fit_on_texts(descriptions)\n",
    "X_desc = tokenizer.texts_to_sequences(descriptions)\n",
    "X_desc = keras.preprocessing.sequence.pad_sequences(X_desc, maxlen=max_len, padding='pre', truncating='pre')"
   ]
  },
  {
   "cell_type": "markdown",
   "metadata": {},
   "source": [
    "creating embedding matrix to be used at training"
   ]
  },
  {
   "cell_type": "code",
   "execution_count": 73,
   "metadata": {},
   "outputs": [],
   "source": [
    "vocab_size = len(tokenizer.word_index)+1\n",
    "\n",
    "embedding_matrix = np.zeros((vocab_size, 200))\n",
    "for word, i in tokenizer.word_index.items():\n",
    "    embedding_vector = embeddings_index.get(word)\n",
    "    if embedding_vector is not None:\n",
    "        embedding_matrix[i] = embedding_vector"
   ]
  },
  {
   "cell_type": "markdown",
   "metadata": {},
   "source": [
    "# Model Setup"
   ]
  },
  {
   "cell_type": "code",
   "execution_count": 92,
   "metadata": {},
   "outputs": [],
   "source": [
    "from keras.layers import LSTM, Embedding, Dense, Activation, concatenate, Dropout, \n",
    "from keras.models import Model\n",
    "from keras import Input, layers\n",
    "\n",
    "from keras.layers import Concatenate"
   ]
  },
  {
   "cell_type": "code",
   "execution_count": 104,
   "metadata": {},
   "outputs": [
    {
     "data": {
      "text/plain": [
       "500"
      ]
     },
     "execution_count": 104,
     "metadata": {},
     "output_type": "execute_result"
    }
   ],
   "source": [
    "Y_tags.shape[1]"
   ]
  },
  {
   "cell_type": "code",
   "execution_count": 183,
   "metadata": {},
   "outputs": [],
   "source": [
    "image_features_size = X_image[0].shape[0]\n",
    "desc_size = X_desc[0].shape[0]\n",
    "embedding_dim = embedding_matrix.shape[1]\n",
    "tags_size = Y_tags.shape[1]\n",
    "\n",
    "\n",
    "inputs1 = Input(shape=(image_features_size,))\n",
    "fe1 = Dropout(0.5)(inputs1)\n",
    "fe2 = Dense(256, activation='relu')(fe1)\n",
    "\n",
    "inputs2 = Input(shape=(desc_size,))\n",
    "se1 = Embedding(vocab_size, embedding_dim, mask_zero=True)(inputs2)\n",
    "se2 = Dropout(0.5)(se1)\n",
    "se3 = LSTM(256)(se2)\n",
    "\n",
    "predictor1 = Concatenate()([fe2, se3])\n",
    "predictor2 = Dense(256, activation='relu')(predictor1)\n",
    "outputs = Dense(tags_size, activation='sigmoid')(predictor2)\n",
    "\n",
    "model = Model(inputs=[inputs1, inputs2], outputs=outputs)\n"
   ]
  },
  {
   "cell_type": "code",
   "execution_count": 106,
   "metadata": {},
   "outputs": [
    {
     "data": {
      "text/plain": [
       "<keras.layers.embeddings.Embedding at 0x7f4f302d6898>"
      ]
     },
     "execution_count": 106,
     "metadata": {},
     "output_type": "execute_result"
    }
   ],
   "source": [
    "model.layers[2]"
   ]
  },
  {
   "cell_type": "code",
   "execution_count": 184,
   "metadata": {},
   "outputs": [],
   "source": [
    "model.layers[2].set_weights([embedding_matrix])\n",
    "model.layers[2].trainable = False\n"
   ]
  },
  {
   "cell_type": "code",
   "execution_count": 185,
   "metadata": {},
   "outputs": [
    {
     "name": "stdout",
     "output_type": "stream",
     "text": [
      "__________________________________________________________________________________________________\n",
      "Layer (type)                    Output Shape         Param #     Connected to                     \n",
      "==================================================================================================\n",
      "input_14 (InputLayer)           (None, 250)          0                                            \n",
      "__________________________________________________________________________________________________\n",
      "input_13 (InputLayer)           (None, 2048)         0                                            \n",
      "__________________________________________________________________________________________________\n",
      "embedding_8 (Embedding)         (None, 250, 200)     11975200    input_14[0][0]                   \n",
      "__________________________________________________________________________________________________\n",
      "dropout_13 (Dropout)            (None, 2048)         0           input_13[0][0]                   \n",
      "__________________________________________________________________________________________________\n",
      "dropout_14 (Dropout)            (None, 250, 200)     0           embedding_8[0][0]                \n",
      "__________________________________________________________________________________________________\n",
      "dense_17 (Dense)                (None, 256)          524544      dropout_13[0][0]                 \n",
      "__________________________________________________________________________________________________\n",
      "lstm_8 (LSTM)                   (None, 256)          467968      dropout_14[0][0]                 \n",
      "__________________________________________________________________________________________________\n",
      "concatenate_5 (Concatenate)     (None, 512)          0           dense_17[0][0]                   \n",
      "                                                                 lstm_8[0][0]                     \n",
      "__________________________________________________________________________________________________\n",
      "dense_18 (Dense)                (None, 256)          131328      concatenate_5[0][0]              \n",
      "__________________________________________________________________________________________________\n",
      "dense_19 (Dense)                (None, 500)          128500      dense_18[0][0]                   \n",
      "==================================================================================================\n",
      "Total params: 13,227,540\n",
      "Trainable params: 1,252,340\n",
      "Non-trainable params: 11,975,200\n",
      "__________________________________________________________________________________________________\n"
     ]
    }
   ],
   "source": [
    "model.summary()"
   ]
  },
  {
   "cell_type": "code",
   "execution_count": 186,
   "metadata": {},
   "outputs": [],
   "source": [
    "model.compile(optimizer='adam', loss='binary_crossentropy', metrics=['categorical_accuracy'])"
   ]
  },
  {
   "cell_type": "markdown",
   "metadata": {},
   "source": [
    "## Data split"
   ]
  },
  {
   "cell_type": "code",
   "execution_count": 174,
   "metadata": {},
   "outputs": [],
   "source": [
    "# X_image, X_desc, Y_tags"
   ]
  },
  {
   "cell_type": "code",
   "execution_count": 194,
   "metadata": {},
   "outputs": [],
   "source": [
    "from sklearn.model_selection import train_test_split\n",
    "\n",
    "X_image_train, X_image_test, X_desc_train, X_desc_test, Y_tags_train, Y_tags_test = train_test_split(X_image, X_desc, Y_tags, test_size=0.2)"
   ]
  },
  {
   "cell_type": "code",
   "execution_count": 199,
   "metadata": {},
   "outputs": [
    {
     "name": "stdout",
     "output_type": "stream",
     "text": [
      "Train on 4572 samples, validate on 508 samples\n",
      "Epoch 1/20\n",
      "4572/4572 [==============================] - 101s 22ms/step - loss: 0.0770 - categorical_accuracy: 0.0094 - val_loss: 0.0467 - val_categorical_accuracy: 0.0039\n",
      "Epoch 2/20\n",
      "4572/4572 [==============================] - 100s 22ms/step - loss: 0.0441 - categorical_accuracy: 0.0096 - val_loss: 0.0412 - val_categorical_accuracy: 0.0118\n",
      "Epoch 3/20\n",
      "4572/4572 [==============================] - 102s 22ms/step - loss: 0.0386 - categorical_accuracy: 0.0230 - val_loss: 0.0365 - val_categorical_accuracy: 0.0138\n",
      "Epoch 4/20\n",
      "4572/4572 [==============================] - 101s 22ms/step - loss: 0.0335 - categorical_accuracy: 0.0385 - val_loss: 0.0316 - val_categorical_accuracy: 0.0492\n",
      "Epoch 5/20\n",
      "4572/4572 [==============================] - 98s 21ms/step - loss: 0.0300 - categorical_accuracy: 0.0628 - val_loss: 0.0298 - val_categorical_accuracy: 0.0492\n",
      "Epoch 6/20\n",
      "4572/4572 [==============================] - 101s 22ms/step - loss: 0.0275 - categorical_accuracy: 0.0774 - val_loss: 0.0276 - val_categorical_accuracy: 0.0394\n",
      "Epoch 7/20\n",
      "4572/4572 [==============================] - 99s 22ms/step - loss: 0.0253 - categorical_accuracy: 0.0855 - val_loss: 0.0264 - val_categorical_accuracy: 0.0807\n",
      "Epoch 8/20\n",
      "4572/4572 [==============================] - 98s 21ms/step - loss: 0.0239 - categorical_accuracy: 0.0958 - val_loss: 0.0254 - val_categorical_accuracy: 0.0669\n",
      "Epoch 9/20\n",
      "4572/4572 [==============================] - 98s 21ms/step - loss: 0.0227 - categorical_accuracy: 0.1045 - val_loss: 0.0247 - val_categorical_accuracy: 0.0925\n",
      "Epoch 10/20\n",
      "4572/4572 [==============================] - 100s 22ms/step - loss: 0.0215 - categorical_accuracy: 0.1181 - val_loss: 0.0240 - val_categorical_accuracy: 0.0965\n",
      "Epoch 11/20\n",
      "4572/4572 [==============================] - 98s 21ms/step - loss: 0.0207 - categorical_accuracy: 0.1234 - val_loss: 0.0240 - val_categorical_accuracy: 0.1063\n",
      "Epoch 12/20\n",
      "4572/4572 [==============================] - 98s 21ms/step - loss: 0.0198 - categorical_accuracy: 0.1374 - val_loss: 0.0232 - val_categorical_accuracy: 0.0709\n",
      "Epoch 13/20\n",
      "4572/4572 [==============================] - 100s 22ms/step - loss: 0.0190 - categorical_accuracy: 0.1306 - val_loss: 0.0227 - val_categorical_accuracy: 0.1240\n",
      "Epoch 14/20\n",
      "4572/4572 [==============================] - 98s 21ms/step - loss: 0.0182 - categorical_accuracy: 0.1448 - val_loss: 0.0225 - val_categorical_accuracy: 0.0965\n",
      "Epoch 15/20\n",
      "4572/4572 [==============================] - 110s 24ms/step - loss: 0.0174 - categorical_accuracy: 0.1553 - val_loss: 0.0223 - val_categorical_accuracy: 0.1260\n",
      "Epoch 16/20\n",
      "4572/4572 [==============================] - 105s 23ms/step - loss: 0.0167 - categorical_accuracy: 0.1654 - val_loss: 0.0223 - val_categorical_accuracy: 0.1299\n",
      "Epoch 17/20\n",
      "4572/4572 [==============================] - 101s 22ms/step - loss: 0.0160 - categorical_accuracy: 0.1601 - val_loss: 0.0223 - val_categorical_accuracy: 0.1122\n",
      "Epoch 18/20\n",
      "4572/4572 [==============================] - 103s 23ms/step - loss: 0.0154 - categorical_accuracy: 0.1689 - val_loss: 0.0224 - val_categorical_accuracy: 0.1063\n",
      "Epoch 19/20\n",
      "4572/4572 [==============================] - 101s 22ms/step - loss: 0.0147 - categorical_accuracy: 0.1708 - val_loss: 0.0228 - val_categorical_accuracy: 0.1043\n",
      "Epoch 20/20\n",
      "4572/4572 [==============================] - 102s 22ms/step - loss: 0.0142 - categorical_accuracy: 0.1835 - val_loss: 0.0224 - val_categorical_accuracy: 0.1102\n"
     ]
    }
   ],
   "source": [
    "history = model.fit([X_image_train, X_desc_train], Y_tags_train, epochs=20,batch_size=32, validation_split=0.1)"
   ]
  },
  {
   "cell_type": "code",
   "execution_count": 200,
   "metadata": {},
   "outputs": [],
   "source": [
    "model.save('model_image_desc.h5')"
   ]
  },
  {
   "cell_type": "code",
   "execution_count": 202,
   "metadata": {},
   "outputs": [],
   "source": [
    "prediction = model.predict([X_image_test, X_desc_test], batch_size=32)"
   ]
  },
  {
   "cell_type": "markdown",
   "metadata": {},
   "source": [
    "Hamming loss \n",
    "$$\\frac{1}{|X|} \\frac{1}{|L|}\\sum_{i \\; in \\; samples} \\sum_{j \\; in \\; tags}  1(f(x_{i})_{j} \\not = y_{ij})$$  \n",
    "\n",
    "Where $x_i$ is an input sample, $y_{ij}$ is a true label for the $j$ tag in sample $i$, $f$ is a prediction model, $|X| $ is amount of samlpes, $|L|$ is amount of unique tags."
   ]
  },
  {
   "cell_type": "code",
   "execution_count": 218,
   "metadata": {},
   "outputs": [
    {
     "data": {
      "text/plain": [
       "2.450039339103068"
      ]
     },
     "execution_count": 218,
     "metadata": {},
     "output_type": "execute_result"
    }
   ],
   "source": [
    "# Hamming Loss\n",
    "# fraction of wrongly predicted tags\n",
    "\n",
    "def hamming_loss(pred, Y):\n",
    "    return ((pred>0.5) != Y).sum()/(500*len(Y))\n",
    "\n",
    "hamming_loss(prediction, Y_tags_test)*500"
   ]
  },
  {
   "cell_type": "code",
   "execution_count": 210,
   "metadata": {},
   "outputs": [
    {
     "data": {
      "image/png": "[encoded data removed]",
      "text/plain": [
       "<Figure size 432x288 with 1 Axes>"
      ]
     },
     "metadata": {
      "needs_background": "light"
     },
     "output_type": "display_data"
    }
   ],
   "source": [
    "def plot_hamming_loss(prediction, Y_tags):\n",
    "    pred = np.array(prediction)\n",
    "    Y = np.array(Y_tags)\n",
    "    \n",
    "    y = [((pred>i) != Y).sum()/(500*len(video_ids)) for i in np.linspace(0.1, 1, 20)]\n",
    "    x = np.linspace(0.1, 1, 20)\n",
    "    \n",
    "    plt.plot(x,y,'-b')\n",
    "    plt.xlabel('threshold')\n",
    "    plt.ylabel('Hamming loss')\n",
    "    \n",
    "plot_hamming_loss(prediction, Y_tags_test)"
   ]
  },
  {
   "cell_type": "code",
   "execution_count": 201,
   "metadata": {},
   "outputs": [
    {
     "data": {
      "image/png": "[encoded data removed]",
      "text/plain": [
       "<Figure size 432x288 with 1 Axes>"
      ]
     },
     "metadata": {
      "needs_background": "light"
     },
     "output_type": "display_data"
    }
   ],
   "source": [
    "def plot_history(history):\n",
    "    val_loss = history.history['val_loss']\n",
    "    loss = history.history['loss']\n",
    "\n",
    "    plt.plot(loss, label='loss')\n",
    "    plt.plot(val_loss, label='val_loss')\n",
    "    plt.legend()\n",
    "    plt.title('Loss history')\n",
    "    \n",
    "plot_history(history)"
   ]
  },
  {
   "cell_type": "markdown",
   "metadata": {},
   "source": [
    "2.45 tags are predicted wrongly in average for test videos."
   ]
  },
  {
   "cell_type": "markdown",
   "metadata": {},
   "source": [
    "We can see that the model was able to train due to the loss history and evaluation metrics."
   ]
  },
  {
   "cell_type": "markdown",
   "metadata": {},
   "source": [
    "# Model without graphical information"
   ]
  },
  {
   "cell_type": "code",
   "execution_count": 214,
   "metadata": {},
   "outputs": [],
   "source": [
    "# image_features_size = X_image[0].shape[0]\n",
    "desc_size = X_desc[0].shape[0]\n",
    "embedding_dim = embedding_matrix.shape[1]\n",
    "tags_size = Y_tags.shape[1]\n",
    "\n",
    "\n",
    "inputs2 = Input(shape=(desc_size,))\n",
    "se1 = Embedding(vocab_size, embedding_dim, mask_zero=True)(inputs2)\n",
    "se2 = Dropout(0.5)(se1)\n",
    "se3 = LSTM(256)(se2)\n",
    "\n",
    "\n",
    "predictor1 = Dense(256, activation='relu')(se3)\n",
    "outputs = Dense(tags_size, activation='sigmoid')(predictor1)\n",
    "\n",
    "model = Model(inputs=inputs2, outputs=outputs)\n"
   ]
  },
  {
   "cell_type": "code",
   "execution_count": 215,
   "metadata": {},
   "outputs": [
    {
     "name": "stdout",
     "output_type": "stream",
     "text": [
      "_________________________________________________________________\n",
      "Layer (type)                 Output Shape              Param #   \n",
      "=================================================================\n",
      "input_15 (InputLayer)        (None, 250)               0         \n",
      "_________________________________________________________________\n",
      "embedding_9 (Embedding)      (None, 250, 200)          11975200  \n",
      "_________________________________________________________________\n",
      "dropout_15 (Dropout)         (None, 250, 200)          0         \n",
      "_________________________________________________________________\n",
      "lstm_9 (LSTM)                (None, 256)               467968    \n",
      "_________________________________________________________________\n",
      "dense_20 (Dense)             (None, 256)               65792     \n",
      "_________________________________________________________________\n",
      "dense_21 (Dense)             (None, 500)               128500    \n",
      "=================================================================\n",
      "Total params: 12,637,460\n",
      "Trainable params: 662,260\n",
      "Non-trainable params: 11,975,200\n",
      "_________________________________________________________________\n"
     ]
    }
   ],
   "source": [
    "model.layers[1].set_weights([embedding_matrix])\n",
    "model.layers[1].trainable = False\n",
    "model.summary()"
   ]
  },
  {
   "cell_type": "code",
   "execution_count": 216,
   "metadata": {},
   "outputs": [],
   "source": [
    "model.compile(optimizer='adam', loss='binary_crossentropy', metrics=['categorical_accuracy'])"
   ]
  },
  {
   "cell_type": "code",
   "execution_count": 217,
   "metadata": {},
   "outputs": [
    {
     "name": "stdout",
     "output_type": "stream",
     "text": [
      "Train on 4572 samples, validate on 508 samples\n",
      "Epoch 1/20\n",
      "4572/4572 [==============================] - 101s 22ms/step - loss: 0.0856 - categorical_accuracy: 0.0059 - val_loss: 0.0492 - val_categorical_accuracy: 0.0335\n",
      "Epoch 2/20\n",
      "4572/4572 [==============================] - 100s 22ms/step - loss: 0.0483 - categorical_accuracy: 0.0061 - val_loss: 0.0476 - val_categorical_accuracy: 0.0039\n",
      "Epoch 3/20\n",
      "4572/4572 [==============================] - 98s 21ms/step - loss: 0.0460 - categorical_accuracy: 0.0131 - val_loss: 0.0438 - val_categorical_accuracy: 0.0079\n",
      "Epoch 4/20\n",
      "4572/4572 [==============================] - 98s 21ms/step - loss: 0.0428 - categorical_accuracy: 0.0238 - val_loss: 0.0405 - val_categorical_accuracy: 0.0276\n",
      "Epoch 5/20\n",
      "4572/4572 [==============================] - 99s 22ms/step - loss: 0.0395 - categorical_accuracy: 0.0262 - val_loss: 0.0371 - val_categorical_accuracy: 0.0315\n",
      "Epoch 6/20\n",
      "4572/4572 [==============================] - 99s 22ms/step - loss: 0.0368 - categorical_accuracy: 0.0322 - val_loss: 0.0349 - val_categorical_accuracy: 0.0413\n",
      "Epoch 7/20\n",
      "4572/4572 [==============================] - 98s 21ms/step - loss: 0.0346 - categorical_accuracy: 0.0367 - val_loss: 0.0330 - val_categorical_accuracy: 0.0472\n",
      "Epoch 8/20\n",
      "4572/4572 [==============================] - 97s 21ms/step - loss: 0.0331 - categorical_accuracy: 0.0387 - val_loss: 0.0321 - val_categorical_accuracy: 0.0630\n",
      "Epoch 9/20\n",
      "4572/4572 [==============================] - 99s 22ms/step - loss: 0.0317 - categorical_accuracy: 0.0422 - val_loss: 0.0305 - val_categorical_accuracy: 0.0551\n",
      "Epoch 10/20\n",
      "4572/4572 [==============================] - 101s 22ms/step - loss: 0.0306 - categorical_accuracy: 0.0516 - val_loss: 0.0302 - val_categorical_accuracy: 0.0630\n",
      "Epoch 11/20\n",
      "4572/4572 [==============================] - 98s 22ms/step - loss: 0.0294 - categorical_accuracy: 0.0591 - val_loss: 0.0298 - val_categorical_accuracy: 0.0610\n",
      "Epoch 12/20\n",
      "4572/4572 [==============================] - 97s 21ms/step - loss: 0.0287 - categorical_accuracy: 0.0575 - val_loss: 0.0281 - val_categorical_accuracy: 0.0650\n",
      "Epoch 13/20\n",
      "4572/4572 [==============================] - 97s 21ms/step - loss: 0.0276 - categorical_accuracy: 0.0652 - val_loss: 0.0274 - val_categorical_accuracy: 0.0965\n",
      "Epoch 14/20\n",
      "4572/4572 [==============================] - 98s 21ms/step - loss: 0.0268 - categorical_accuracy: 0.0700 - val_loss: 0.0266 - val_categorical_accuracy: 0.0886\n",
      "Epoch 15/20\n",
      "4572/4572 [==============================] - 97s 21ms/step - loss: 0.0259 - categorical_accuracy: 0.0781 - val_loss: 0.0263 - val_categorical_accuracy: 0.1024\n",
      "Epoch 16/20\n",
      "4572/4572 [==============================] - 97s 21ms/step - loss: 0.0252 - categorical_accuracy: 0.0849 - val_loss: 0.0261 - val_categorical_accuracy: 0.1043\n",
      "Epoch 17/20\n",
      "4572/4572 [==============================] - 97s 21ms/step - loss: 0.0247 - categorical_accuracy: 0.0884 - val_loss: 0.0252 - val_categorical_accuracy: 0.0846\n",
      "Epoch 18/20\n",
      "4572/4572 [==============================] - 97s 21ms/step - loss: 0.0239 - categorical_accuracy: 0.0892 - val_loss: 0.0247 - val_categorical_accuracy: 0.1083\n",
      "Epoch 19/20\n",
      "4572/4572 [==============================] - 97s 21ms/step - loss: 0.0233 - categorical_accuracy: 0.0954 - val_loss: 0.0240 - val_categorical_accuracy: 0.0965\n",
      "Epoch 20/20\n",
      "4572/4572 [==============================] - 97s 21ms/step - loss: 0.0228 - categorical_accuracy: 0.1006 - val_loss: 0.0240 - val_categorical_accuracy: 0.1299\n"
     ]
    }
   ],
   "source": [
    "history = model.fit(X_desc_train, Y_tags_train, epochs=20,batch_size=32, validation_split=0.1)"
   ]
  },
  {
   "cell_type": "code",
   "execution_count": 219,
   "metadata": {},
   "outputs": [
    {
     "data": {
      "image/png": "[encoded data removed]",
      "text/plain": [
       "<Figure size 432x288 with 1 Axes>"
      ]
     },
     "metadata": {
      "needs_background": "light"
     },
     "output_type": "display_data"
    }
   ],
   "source": [
    "plot_history(history)"
   ]
  },
  {
   "cell_type": "code",
   "execution_count": 220,
   "metadata": {},
   "outputs": [],
   "source": [
    "prediction = model.predict(X_desc_test, batch_size=32)"
   ]
  },
  {
   "cell_type": "code",
   "execution_count": 221,
   "metadata": {},
   "outputs": [
    {
     "data": {
      "text/plain": [
       "2.572777340676633"
      ]
     },
     "execution_count": 221,
     "metadata": {},
     "output_type": "execute_result"
    }
   ],
   "source": [
    "hamming_loss(prediction, Y_tags_test)*500"
   ]
  },
  {
   "cell_type": "code",
   "execution_count": 222,
   "metadata": {},
   "outputs": [
    {
     "data": {
      "image/png": "[encoded data removed]",
      "text/plain": [
       "<Figure size 432x288 with 1 Axes>"
      ]
     },
     "metadata": {
      "needs_background": "light"
     },
     "output_type": "display_data"
    }
   ],
   "source": [
    "\n",
    "    \n",
    "plot_hamming_loss(prediction, Y_tags_test)"
   ]
  },
  {
   "cell_type": "code",
   "execution_count": 163,
   "metadata": {},
   "outputs": [
    {
     "data": {
      "text/plain": [
       "2.3978900960478664"
      ]
     },
     "execution_count": 163,
     "metadata": {},
     "output_type": "execute_result"
    }
   ],
   "source": [
    "((prediction>0.5) != Y_tags).sum()/(len(video_ids))"
   ]
  },
  {
   "cell_type": "markdown",
   "metadata": {},
   "source": [
    "Average amount of wrongly predicted tags on lstm classifier 2.398"
   ]
  },
  {
   "cell_type": "code",
   "execution_count": 223,
   "metadata": {},
   "outputs": [],
   "source": [
    "model.save('model_no_image.h5')"
   ]
  },
  {
   "cell_type": "markdown",
   "metadata": {},
   "source": [
    "# Example"
   ]
  },
  {
   "cell_type": "code",
   "execution_count": 243,
   "metadata": {},
   "outputs": [
    {
     "data": {
      "text/plain": [
       "('Fallon Stand-up',\n",
       " 'Fallon monologue',\n",
       " 'Funny',\n",
       " 'Jimmy Fallon',\n",
       " 'NBC',\n",
       " 'NBC TV',\n",
       " 'Talk Show',\n",
       " 'Television',\n",
       " 'The Tonight Show',\n",
       " 'celebrities',\n",
       " 'clip',\n",
       " 'comedian',\n",
       " 'comedic',\n",
       " 'comedy sketches',\n",
       " 'funny video',\n",
       " 'highlight',\n",
       " 'humor',\n",
       " 'interview',\n",
       " 'jokes',\n",
       " 'show',\n",
       " 'snl',\n",
       " 'talent',\n",
       " 'tonight',\n",
       " 'variety',\n",
       " 'video')"
      ]
     },
     "execution_count": 243,
     "metadata": {},
     "output_type": "execute_result"
    }
   ],
   "source": [
    "mlb.inverse_transform(prediction>0.5)[114]\n"
   ]
  },
  {
   "cell_type": "code",
   "execution_count": 244,
   "metadata": {},
   "outputs": [
    {
     "data": {
      "text/plain": [
       "('Best',\n",
       " 'Fallon Stand-up',\n",
       " 'Fallon monologue',\n",
       " 'Funny',\n",
       " 'Jimmy Fallon',\n",
       " 'NBC',\n",
       " 'NBC TV',\n",
       " 'Talk Show',\n",
       " 'Television',\n",
       " 'The Tonight Show',\n",
       " 'celebrities',\n",
       " 'christmas',\n",
       " 'clip',\n",
       " 'comedic',\n",
       " 'comedy sketches',\n",
       " 'funny video',\n",
       " 'humor',\n",
       " 'interview',\n",
       " 'jokes',\n",
       " 'movie',\n",
       " 'music',\n",
       " 'show',\n",
       " 'snl',\n",
       " 'star wars',\n",
       " 'talent',\n",
       " 'the last jedi',\n",
       " 'tonight',\n",
       " 'trailer',\n",
       " 'variety',\n",
       " 'video')"
      ]
     },
     "execution_count": 244,
     "metadata": {},
     "output_type": "execute_result"
    }
   ],
   "source": [
    "mlb.inverse_transform(Y_tags_test)[114]"
   ]
  },
  {
   "cell_type": "markdown",
   "metadata": {},
   "source": [
    "So we can make a conslusion that adding extra rgafical information allowed to gain  better results."
   ]
  },
  {
   "cell_type": "markdown",
   "metadata": {},
   "source": [
    "https://medium.com/datadriveninvestor/predicting-tags-for-the-questions-in-stack-overflow-29438367261e\n",
    "https://www.kaggle.com/datasnaek/youtube-new\n"
   ]
  }
 ],
 "metadata": {
  "kernelspec": {
   "display_name": "Python 3",
   "language": "python",
   "name": "python3"
  },
  "language_info": {
   "codemirror_mode": {
    "name": "ipython",
    "version": 3
   },
   "file_extension": ".py",
   "mimetype": "text/x-python",
   "name": "python",
   "nbconvert_exporter": "python",
   "pygments_lexer": "ipython3",
   "version": "3.6.7"
  }
 },
 "nbformat": 4,
 "nbformat_minor": 2
}
